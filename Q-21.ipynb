{
 "cells": [
  {
   "cell_type": "markdown",
   "id": "1018048f",
   "metadata": {},
   "source": [
    "# Quistion-21\n",
    "\n",
    "In a jupyter notebook solve the following question. Please upload the notebook to GitHub and provide the link submission box below.\n",
    "\n",
    " \n",
    "\n",
    "__int()__: Constructor that takes as input a pair of Point objects that represent the ends points of the line segment\n",
    "\n",
    "Length():: returns the length if the segment \n",
    "\n",
    "Slope() returns the slope of the segment of none if the slope is unbounded \n",
    "\n",
    " \n",
    "\n",
    ">>> p1 = Point(3,4)\n",
    "\n",
    ">>> p2 = Point()\n",
    "\n",
    ">>> s = Segment(p1,p2)\n",
    "\n",
    ">>> s.length()\n",
    "\n",
    "5.0\n",
    "\n",
    ">>> s.slope()\n",
    "\n",
    "0.75"
   ]
  },
  {
   "cell_type": "code",
   "execution_count": 39,
   "id": "91ea0117",
   "metadata": {},
   "outputs": [
    {
     "name": "stdout",
     "output_type": "stream",
     "text": [
      "5.0\n",
      "0.75\n"
     ]
    }
   ],
   "source": [
    "import math\n",
    "\n",
    "class Point:\n",
    "    def __init__(self, x=0, y=0): \n",
    "        self.x = x\n",
    "        self.y = y\n",
    "\n",
    "class Segment:\n",
    "    def __init__(self, p1, p2): \n",
    "        self.p1 = p1\n",
    "        self.p2 = p2\n",
    "\n",
    "    def length(self):\n",
    "        \n",
    "        x_coordinates = self.p2.x - self.p1.x\n",
    "        y_coordinates = self.p2.y - self.p1.y\n",
    "\n",
    "        distance = math.sqrt(x_coordinates**2 + y_coordinates**2) \n",
    "\n",
    "        return distance\n",
    "\n",
    "    def slope(self):\n",
    "        try:\n",
    "            return (self.p2.x - self.p1.x) / (self.p2.y - self.p1.y)\n",
    "        except ZeroDivisionError: \n",
    "            return None\n",
    "        \n",
    "       \n",
    "        p1 = Point(3, 4)\n",
    "        p2 = Point()\n",
    "        s = Segment(p1, p2)\n",
    "        \n",
    "        \n",
    "    print(s.length())  \n",
    "\n",
    "    print(s.slope())  "
   ]
  }
 ],
 "metadata": {
  "kernelspec": {
   "display_name": "Python 3 (ipykernel)",
   "language": "python",
   "name": "python3"
  },
  "language_info": {
   "codemirror_mode": {
    "name": "ipython",
    "version": 3
   },
   "file_extension": ".py",
   "mimetype": "text/x-python",
   "name": "python",
   "nbconvert_exporter": "python",
   "pygments_lexer": "ipython3",
   "version": "3.11.7"
  }
 },
 "nbformat": 4,
 "nbformat_minor": 5
}
