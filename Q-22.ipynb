{
 "cells": [
  {
   "cell_type": "markdown",
   "id": "9c4670ae",
   "metadata": {},
   "source": [
    "# Quistion-22\n",
    "\n",
    "In a jupyter notebook solve the following question using both python and SQL. Please upload the notebook to GitHub and provide the link submission box below.\n"
   ]
  },
  {
   "cell_type": "markdown",
   "id": "83b1b2c2",
   "metadata": {},
   "source": [
    "| Column Name   | Type    |\n",
    "|---------------|---------|\n",
    "| id            | int     |\n",
    "| recordDate    | date    |\n",
    "| temperature   | int     |"
   ]
  },
  {
   "cell_type": "markdown",
   "id": "4dd5c54b",
   "metadata": {},
   "source": [
    "id is the column with unique values for this table.\n",
    "This table contains information about the temperature on a certain day.\n",
    " \n",
    " \n",
    "\n",
    "Write a solution to find all dates' Id with higher temperatures compared to its previous dates (yesterday).\n",
    "\n",
    "Return the result table in any order.\n",
    "\n",
    "Please use the following input Weather table for your solution. To receive full marks you will need to create the database, create the table, insert the data below and execute the SQL query.\n",
    "\n",
    " Input: \n",
    "Weather table:\n"
   ]
  },
  {
   "cell_type": "markdown",
   "id": "f8190721",
   "metadata": {},
   "source": [
    "| id | recordDate | temperature |\n",
    "|----| -----------|-------------|\n",
    "| 1  | 2015-01-01 | 10          |\n",
    "| 2  | 2015-01-02 | 25          |\n",
    "| 3  | 2015-01-03 | 20          |\n",
    "| 4  | 2015-01-04 | 30          |"
   ]
  },
  {
   "cell_type": "markdown",
   "id": "672b6abb",
   "metadata": {},
   "source": [
    "Output: "
   ]
  },
  {
   "cell_type": "markdown",
   "id": "58e79a52",
   "metadata": {},
   "source": [
    "\n",
    "| id |\n",
    "|----|\n",
    "| 2  |\n",
    "| 4  |\n"
   ]
  },
  {
   "cell_type": "markdown",
   "id": "765fc1e4",
   "metadata": {},
   "source": [
    "\n",
    "Explanation: \n",
    "In 2015-01-02, the temperature was higher than the previous day (10 -> 25).\n",
    "In 2015-01-04, the temperature was higher than the previous day (20 -> 30)."
   ]
  },
  {
   "cell_type": "code",
   "execution_count": 27,
   "id": "0245b92d",
   "metadata": {},
   "outputs": [],
   "source": [
    "import sqlite3\n",
    "\n",
    "# Creating the database \n",
    "conn = sqlite3.connect('weather_data.db')\n",
    "cur = conn.cursor()"
   ]
  },
  {
   "cell_type": "code",
   "execution_count": 28,
   "id": "07f8d01e",
   "metadata": {},
   "outputs": [
    {
     "data": {
      "text/plain": [
       "<sqlite3.Cursor at 0x11de58048c0>"
      ]
     },
     "execution_count": 28,
     "metadata": {},
     "output_type": "execute_result"
    }
   ],
   "source": [
    "# Deleting if the table already exists\n",
    "cur.execute('''DROP TABLE IF EXISTS Weather''')\n",
    "\n",
    "# Creating the table\n",
    "cur.execute('''\n",
    "    CREATE TABLE Weather (\n",
    "        id INTEGER PRIMARY KEY,\n",
    "        recordDate DATE,\n",
    "        temperature INTEGER)\n",
    "        ''')"
   ]
  },
  {
   "cell_type": "code",
   "execution_count": 29,
   "id": "202049a4",
   "metadata": {},
   "outputs": [],
   "source": [
    "given_data = [\n",
    "    (1, '2015-01-01', 10),\n",
    "    (2, '2015-01-02', 25),\n",
    "    (3, '2015-01-03', 20),\n",
    "    (4, '2015-01-04', 30)\n",
    "]\n",
    "\n",
    "# Inserting the data into the table\n",
    "cur.executemany('INSERT INTO Weather (id, recordDate, temperature) VALUES (?, ?, ?)', given_data)\n",
    "conn.commit()"
   ]
  },
  {
   "cell_type": "code",
   "execution_count": 30,
   "id": "0a634dad",
   "metadata": {},
   "outputs": [
    {
     "name": "stdout",
     "output_type": "stream",
     "text": [
      "id\n",
      "2\n",
      "4\n"
     ]
    }
   ],
   "source": [
    "# Defining the SQL query to solve the problem\n",
    "query = '''\n",
    "        SELECT w1.id\n",
    "        FROM Weather w1\n",
    "        JOIN Weather w2 ON DATE(w1.recordDate) = DATE(w2.recordDate, '+1 day')\n",
    "        WHERE w1.temperature > w2.temperature\n",
    "        '''\n",
    "\n",
    "cur.execute(query)\n",
    "\n",
    "# Printing the SQL Query results\n",
    "rows = cur.fetchall()\n",
    "print(\"id\")\n",
    "for row in rows:\n",
    "    print(row[0])\n",
    "    \n",
    "# Closing the database connection\n",
    "conn.close()"
   ]
  }
 ],
 "metadata": {
  "kernelspec": {
   "display_name": "Python 3 (ipykernel)",
   "language": "python",
   "name": "python3"
  },
  "language_info": {
   "codemirror_mode": {
    "name": "ipython",
    "version": 3
   },
   "file_extension": ".py",
   "mimetype": "text/x-python",
   "name": "python",
   "nbconvert_exporter": "python",
   "pygments_lexer": "ipython3",
   "version": "3.11.7"
  }
 },
 "nbformat": 4,
 "nbformat_minor": 5
}
